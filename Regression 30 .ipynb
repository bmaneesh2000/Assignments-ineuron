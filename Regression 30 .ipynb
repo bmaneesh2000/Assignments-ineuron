{
 "cells": [
  {
   "cell_type": "code",
   "execution_count": null,
   "metadata": {},
   "outputs": [],
   "source": [
    "#1\n",
    "\n",
    "\"\"\" Q1. What is Elastic Net Regression and how does it differ from other regression techniques? \"\"\"\n",
    "\n",
    "#Answers\n",
    "\n",
    "\"\"\" \n",
    " Elastic net linear regression uses the penalties from both the lasso and ridge techniques to regularize regression models. \n",
    " The technique combines both the lasso and ridge regression methods by learning from their shortcomings to improve the regularization of statistical models.\n",
    "\"\"\""
   ]
  },
  {
   "cell_type": "code",
   "execution_count": null,
   "metadata": {},
   "outputs": [],
   "source": [
    "#2\n",
    "\n",
    "\"\"\" Q2. How do you choose the optimal values of the regularization parameters for Elastic Net Regression? \"\"\"\n",
    "\n",
    "#Answers\n",
    "\n",
    "\"\"\" \n",
    "use hyperparameter tuning, but balance the accuracy, low bias and low variance\n",
    "\"\"\""
   ]
  },
  {
   "cell_type": "code",
   "execution_count": null,
   "metadata": {},
   "outputs": [],
   "source": [
    "#3\n",
    "\n",
    "\"\"\" Q3. What are the advantages and disadvantages of Elastic Net Regression? \"\"\"\n",
    "\n",
    "# Answers\n",
    "\n",
    "\"\"\"\n",
    "Lasso, Ridge, and Elastic Net are excellent methods to improve the performance of your linear model. \n",
    "This includes if you are running a neural network, a collection of linear models. Lasso will eliminate many features, and reduce overfitting in your linear model. \n",
    "Ridge will reduce the impact of features that are not important in predicting your y values. \n",
    "Elastic Net combines feature elimination from Lasso and feature coefficient reduction from the Ridge model to improve your model’s predictions.\n",
    "\n",
    "The advantage of the elastic net is that it keeps the feature selection quality from the lasso penalty as well as the effectiveness of the ridge penalty. \n",
    "And it deals with highly correlated variables more effectively.\n",
    "\"\"\""
   ]
  },
  {
   "cell_type": "code",
   "execution_count": null,
   "metadata": {},
   "outputs": [],
   "source": [
    "#4\n",
    "\n",
    "\"\"\" Q4. What are some common use cases for Elastic Net Regression? \"\"\"\n",
    "\n",
    "#Answers\n",
    "\n",
    "\"\"\"\n",
    "When we need to do both feature selection while reducing overfitting\n",
    "\"\"\""
   ]
  },
  {
   "cell_type": "code",
   "execution_count": null,
   "metadata": {},
   "outputs": [],
   "source": [
    "#5\n",
    "\n",
    "\"\"\" Q5. How do you interpret the coefficients in Elastic Net Regression? \"\"\"\n",
    "\n",
    "#Answers\n",
    "\n",
    "\"\"\" Has two coefficients, in both l1 and l2 regularization \"\"\""
   ]
  },
  {
   "cell_type": "code",
   "execution_count": null,
   "metadata": {},
   "outputs": [],
   "source": [
    "#6\n",
    "\n",
    "\"\"\" Q6. How do you handle missing values when using Elastic Net Regression? \"\"\"\n",
    "\n",
    "#Answers\n",
    "\n",
    "\"\"\" remove if missing values are small, else relace them with the average \"\"\""
   ]
  },
  {
   "cell_type": "code",
   "execution_count": null,
   "metadata": {},
   "outputs": [],
   "source": [
    "#7\n",
    "\n",
    "\"\"\" Q7. How do you use Elastic Net Regression for feature selection? \"\"\"\n",
    "\n",
    "#Answers\n",
    "\n",
    "\"\"\" By increasing the coefficient the value moves towards 0, unimportant features reach near 0 before the important ones reach, hence feature selection\"\"\""
   ]
  },
  {
   "cell_type": "code",
   "execution_count": null,
   "metadata": {},
   "outputs": [],
   "source": [
    "#8\n",
    "\n",
    "\"\"\" Q8. How do you pickle and unpickle a trained Elastic Net Regression model in Python? \"\"\"\n",
    "\n",
    "#Answers\n",
    "\n",
    "\"\"\" use pickple library in python\"\"\""
   ]
  },
  {
   "cell_type": "code",
   "execution_count": null,
   "metadata": {},
   "outputs": [],
   "source": [
    "#9\n",
    "\n",
    "\"\"\" Q9. What is the purpose of pickling a model in machine learning? \"\"\"\n",
    "\n",
    "#Answers\n",
    "\n",
    "\"\"\" To serialize or deserialize an python object to be used into production\"\"\""
   ]
  }
 ],
 "metadata": {
  "language_info": {
   "name": "python"
  },
  "orig_nbformat": 4
 },
 "nbformat": 4,
 "nbformat_minor": 2
}
