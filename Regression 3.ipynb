{
 "cells": [
  {
   "cell_type": "code",
   "execution_count": null,
   "id": "0a32e5a3-3d47-41d5-8c86-0568c15b9861",
   "metadata": {},
   "outputs": [],
   "source": [
    "#1\n",
    "\n",
    "\"\"\" Q1. What is Ridge Regression, and how does it differ from ordinary least squares regression? \"\"\"\n",
    "\n",
    "#Answer\n",
    "\n",
    "\"\"\"\n",
    "Linear Regression\n",
    "\n",
    "It is one of the most widely known modeling technique. Linear regression is usually among the first few topics which people pick while learning predictive modeling. In this technique, the dependent variable is continuous, independent variable(s) can be continuous or discrete, and nature of regression line is linear.\n",
    "\n",
    "Linear Regression establishes a relationship between dependent variable (Y) and one or more independent variables (X) using a best fit straight line (also known as regression line).\n",
    "\n",
    "Ridge Regression\n",
    "\n",
    "Ridge Regression is a technique used when the data suffers from multicollinearity ( independent variables are highly correlated). In multicollinearity, even though the least squares estimates (OLS) are unbiased, their variances are large which deviates the observed value far from the true value. By adding a degree of bias to the regression estimates, ridge regression reduces the standard errors.\n",
    "\n",
    "Above, we saw the equation for linear regression. Remember? It can be represented as:\n",
    "\n",
    "y=a+ b*x\n",
    "\n",
    "This equation also has an error term. The complete equation becomes: y=a+b*x+e (error term), [error term is the value needed to correct for a prediction error between the observed and predicted value] => y=a+y= a+ b1x1+ b2x2+…+e, for multiple independent variables.\n",
    "\n",
    "In a linear equation, prediction errors can be decomposed into two sub components. First is due to the biased and second is due to the variance. Prediction error can occur due to any one of these two or both components. Here, we’ll discuss about the error caused due to variance.\n",
    "\n",
    "Ridge regression solves the multicollinearity problem through shrinkage parameter λ (lambda). Look at the equation below\n",
    "\n",
    "\"\"\""
   ]
  },
  {
   "cell_type": "code",
   "execution_count": null,
   "id": "960ba8ee-ceca-4725-bc21-0d3e5a850b47",
   "metadata": {},
   "outputs": [],
   "source": [
    "#2\n",
    "\n",
    "\"\"\" Q2. What are the assumptions of Ridge Regression? \"\"\"\n",
    "\n",
    "#Answers\n",
    "\n",
    "\"\"\"\n",
    "The assumptions of ridge regression are the same as that of linear regression: linearity, constant variance, and independence. \n",
    "However, as ridge regression does not provide confidence limits, the distribution of errors to be normal need not be assumed.\n",
    "\"\"\""
   ]
  },
  {
   "cell_type": "code",
   "execution_count": null,
   "id": "616d5734-61b1-4aab-8fec-12268c4133c5",
   "metadata": {},
   "outputs": [],
   "source": [
    "#3\n",
    "\n",
    "\"\"\" Q3. How do you select the value of the tuning parameter (lambda) in Ridge Regression? \"\"\"\n",
    "\n",
    "#Answer\n",
    "\n",
    "\"\"\"\n",
    "\n",
    "Hyperparameter tuning, so randomly or iterativly by you\n",
    "\n",
    "\"\"\""
   ]
  },
  {
   "cell_type": "code",
   "execution_count": null,
   "id": "dcfcd38f-3d52-4946-a9e0-092702551197",
   "metadata": {},
   "outputs": [],
   "source": [
    "#4\n",
    "\n",
    "\"\"\" Q4. Can Ridge Regression be used for feature selection? If yes, how? \"\"\"\n",
    "\n",
    "#Answer\n",
    "\n",
    "\"\"\"\n",
    "\n",
    "No, only Lasso can be used for feature selection\n",
    "\n",
    "\"\"\""
   ]
  },
  {
   "cell_type": "code",
   "execution_count": null,
   "id": "698f1241-cb05-4347-839e-72419145f87a",
   "metadata": {},
   "outputs": [],
   "source": [
    "#5\n",
    "\n",
    "\"\"\" Q5. How does the Ridge Regression model perform in the presence of multicollinearity? \"\"\"\n",
    "\n",
    "#Answer\n",
    "\n",
    "\"\"\"\n",
    "\n",
    "Ridge Regression is a technique for analyzing multiple regression data that suffer from multicollinearity. \n",
    "When multicollinearity occurs, least squares estimates are unbiased, but their variances are large so they may be far from the true value.\n",
    "\n",
    "\"\"\""
   ]
  },
  {
   "cell_type": "code",
   "execution_count": null,
   "id": "fcbf8f15-bbae-4f14-bcbb-a7e84cd81200",
   "metadata": {},
   "outputs": [],
   "source": [
    "#6\n",
    "\n",
    "\"\"\" Q6. Can Ridge Regression handle both categorical and continuous independent variables? \"\"\"\n",
    "\n",
    "#Answers\n",
    "\n",
    "\"\"\"\n",
    "\n",
    "Yes, by multinomial ridge regression\n",
    "\n",
    "\"\"\""
   ]
  },
  {
   "cell_type": "code",
   "execution_count": null,
   "id": "d8128757-d7c2-458d-845f-76a3e76b2e22",
   "metadata": {},
   "outputs": [],
   "source": [
    "#7\n",
    "\n",
    "\"\"\" Q7. How do you interpret the coefficients of Ridge Regression? \"\"\"\n",
    "\n",
    "#Answers\n",
    "\n",
    "\"\"\"\n",
    "adds penalty equivalent to the square of the magnitude of coefficients\n",
    "\"\"\"\n"
   ]
  },
  {
   "cell_type": "code",
   "execution_count": null,
   "id": "27afb99e-3beb-4803-97a6-462687ed702c",
   "metadata": {},
   "outputs": [],
   "source": [
    "#8\n",
    "\n",
    "\"\"\" Q8. Can Ridge Regression be used for time-series data analysis? If yes, how? \"\"\"\n",
    "\n",
    "#Answers\n",
    "\n",
    "\n",
    "\"\"\"\n",
    "Yes, Constrained linear inversion or Tikhonov regularization is also called Ridge regression.\n",
    "\"\"\"\n"
   ]
  }
 ],
 "metadata": {
  "kernelspec": {
   "display_name": "Python 3 (ipykernel)",
   "language": "python",
   "name": "python3"
  },
  "language_info": {
   "codemirror_mode": {
    "name": "ipython",
    "version": 3
   },
   "file_extension": ".py",
   "mimetype": "text/x-python",
   "name": "python",
   "nbconvert_exporter": "python",
   "pygments_lexer": "ipython3",
   "version": "3.10.8"
  }
 },
 "nbformat": 4,
 "nbformat_minor": 5
}
