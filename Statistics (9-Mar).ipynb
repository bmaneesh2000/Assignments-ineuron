{
 "cells": [
  {
   "cell_type": "code",
   "execution_count": null,
   "metadata": {},
   "outputs": [],
   "source": [
    "#1\n",
    "\n",
    "\"\"\" Q1: What are the Probability Mass Function (PMF) and Probability Density Function (PDF)? Explain with\n",
    "an example. \"\"\"\n",
    "\n",
    "#Answers\n",
    "\n",
    "\"\"\" \n",
    "The PDF is a function that describes the probability of a continuous random variable taking on a certain value. \n",
    "It is a mathematical function that describes the probability that a random variable will fall within a certain range of values.\n",
    "\n",
    "The PMF is a function that describes the probability of a discrete random variable taking on a certain value. \n",
    "It is a mathematical function that describes the probability that a random variable will take on a specific value rather than falling within a range of values.\n",
    "\"\"\""
   ]
  },
  {
   "cell_type": "code",
   "execution_count": null,
   "metadata": {},
   "outputs": [],
   "source": [
    "#2\n",
    "\n",
    "\"\"\" \n",
    "Q2: What is Cumulative Density Function (CDF)? Explain with an example. Why CDF is used?\n",
    "\"\"\"\n",
    "\n",
    "#Answers\n",
    "\n",
    "\"\"\" \n",
    "The CDF is a function that describes the probability that a random variable (continuous or discrete) will take on a value less than or equal to a certain value. \n",
    "It is a mathematical function that describes the probability that a random variable will fall within a certain range of values, up to and including a specific value.\n",
    "\n",
    "\"\"\""
   ]
  },
  {
   "cell_type": "code",
   "execution_count": null,
   "metadata": {},
   "outputs": [],
   "source": [
    "#3\n",
    "\n",
    "\"\"\"\n",
    "Q3: What are some examples of situations where the normal distribution might be used as a model?\n",
    "Explain how the parameters of the normal distribution relate to the shape of the distribution.\n",
    "\"\"\"\n",
    "\n",
    "#Answers\n",
    "\n",
    "\"\"\" \n",
    "\n",
    "Normal/Gaussian Distribution is a bell-shaped graph that encompasses two basic terms- mean and standard deviation. \n",
    "It is a symmetrical arrangement of a data set in which most values cluster in the mean and the rest taper off symmetrically towards either extreme.\n",
    "\n",
    "examples\n",
    "\n",
    "#Height\n",
    "#tossing a coin\n",
    "#rolling a dice\n",
    "\n",
    "\"\"\""
   ]
  },
  {
   "cell_type": "code",
   "execution_count": null,
   "metadata": {},
   "outputs": [],
   "source": [
    "#4\n",
    "\n",
    "\"\"\" \n",
    "Q4: Explain the importance of Normal Distribution. Give a few real-life examples of Normal\n",
    "Distribution.\n",
    "\"\"\"\n",
    "\n",
    "#Answers\n",
    "\n",
    "\"\"\" \n",
    "\n",
    "Normal/Gaussian Distribution is a bell-shaped graph that encompasses two basic terms- mean and standard deviation. \n",
    "It is a symmetrical arrangement of a data set in which most values cluster in the mean and the rest taper off symmetrically towards either extreme.\n",
    "\n",
    "examples\n",
    "\n",
    "#Height\n",
    "#tossing a coin\n",
    "#rolling a dice\n",
    "\n",
    "\"\"\""
   ]
  },
  {
   "cell_type": "code",
   "execution_count": null,
   "metadata": {},
   "outputs": [],
   "source": [
    "#5\n",
    "\n",
    "\"\"\" Q5: What is Bernaulli Distribution? Give an Example. What is the difference between Bernoulli\n",
    "Distribution and Binomial Distribution? \"\"\"\n",
    "\n",
    "#Answers\n",
    "\n",
    "\"\"\" \n",
    "Bernoulli Distribution!\n",
    "This distribution deals with the data which only has 1 trial & only 2 possible outcomes. Anything other than that will not fall under the Bernoulli Distribution category.\n",
    "\n",
    "Binomial Distribution!\n",
    "It is the collection of Bernoulli trials for the same event, i.e., it contains more than 1 Bernoulli event for the same scenario for which the Bernoulli trial is calculated.\n",
    "\n",
    "Bernoulli deals with the outcome of the single trial of the event, whereas Binomial deals with the outcome of the multiple trials of the single event.\n",
    "Bernoulli is used when the outcome of an event is required for only one time, whereas the Binomial is used when the outcome of an event is required multiple times.\n",
    "\"\"\""
   ]
  },
  {
   "cell_type": "code",
   "execution_count": 7,
   "metadata": {},
   "outputs": [
    {
     "data": {
      "text/plain": [
       "' \\nQ6. Consider a dataset with a mean of 50 and a standard deviation of 10. If we assume that the dataset\\nis normally distributed, what is the probability that a randomly selected observation will be greater\\nthan 60? Use the appropriate formula and show your calculations.\\n'"
      ]
     },
     "execution_count": 7,
     "metadata": {},
     "output_type": "execute_result"
    }
   ],
   "source": [
    "#6\n",
    "\n",
    "\"\"\" \n",
    "Q6. Consider a dataset with a mean of 50 and a standard deviation of 10. If we assume that the dataset\n",
    "is normally distributed, what is the probability that a randomly selected observation will be greater\n",
    "than 60? Use the appropriate formula and show your calculations.\n",
    "\"\"\"\n",
    "\n",
    "#Answers\n",
    "\n",
    "# draw an normal distribution\n",
    "\n",
    "# find zscore =1\n",
    "\n",
    "# using z table we find area >60 => 0.8413\n",
    "\n",
    "# area greater than 60 => 1-0.8413 => 0.158"
   ]
  },
  {
   "cell_type": "code",
   "execution_count": null,
   "metadata": {},
   "outputs": [],
   "source": [
    "#7\n",
    "\n",
    "\"\"\" \n",
    "Q7: Explain uniform Distribution with an example.\n",
    "\"\"\"\n",
    "\n",
    "#Answer\n",
    "\n",
    "\"\"\"  \n",
    " uniform distribution refers to a type of probability distribution in which all outcomes are equally likely. \n",
    " A deck of cards has within it uniform distributions because the likelihood of drawing a heart, a club, a diamond, or a spade is equally likely. \n",
    " A coin also has a uniform distribution because the probability of getting either heads or tails in a coin toss is the same.\n",
    "\n",
    "The uniform distribution can be visualized as a straight horizontal line, so for a coin flip returning a head or tail, \n",
    "both have a probability p = 0.50 and would be depicted by a line from the y-axis at 0.50.\n",
    "\"\"\""
   ]
  },
  {
   "cell_type": "code",
   "execution_count": null,
   "metadata": {},
   "outputs": [],
   "source": [
    "#8\n",
    "\n",
    "\"\"\" \n",
    "Q8: What is the z score? State the importance of the z score.\n",
    "\"\"\"\n",
    "\n",
    "#Answer\n",
    "\n",
    "\"\"\" Z-score is a statistical measurement that describes a value's relationship to the mean of a group of values. \n",
    "Z-score is measured in terms of standard deviations from the mean. \n",
    "If a Z-score is 0, it indicates that the data point's score is identical to the mean score.\n",
    "\n",
    "Using Z score we can find probabilty of from an certain data point\n",
    "\"\"\""
   ]
  },
  {
   "cell_type": "code",
   "execution_count": null,
   "metadata": {},
   "outputs": [],
   "source": [
    "#9\n",
    "\n",
    "\"\"\" Q9: What is Central Limit Theorem? State the significance of the Central Limit Theorem. \"\"\"\n",
    "\n",
    "#Answers\n",
    "\n",
    "\"\"\" \n",
    "The central limit theorem says that the sampling distribution of the mean will always be normally distributed, as long as the sample size is large enough. \n",
    "Regardless of whether the population has a normal, Poisson, binomial, or any other distribution, the sampling distribution of the mean will be normal.\n",
    "\n",
    "\n",
    "The central limit theorem is useful when analyzing large data sets because it allows one to assume that \n",
    "the sampling distribution of the mean will be normally-distributed in most cases. \n",
    "This allows for easier statistical analysis and inference.  For example, investors can use central limit theorem to aggregate individual security performance data \n",
    "and generate distribution of sample means that represent a larger population distribution for security returns over a period of time.\n",
    "\"\"\""
   ]
  },
  {
   "cell_type": "code",
   "execution_count": null,
   "metadata": {},
   "outputs": [],
   "source": [
    "#10 \n",
    "\n",
    "\"\"\" Q10: State the assumptions of the Central Limit Theorem. \"\"\"\n",
    "\n",
    "#Answers\n",
    "\n",
    "\"\"\"  \n",
    "Assumptions behind CLT:\n",
    "\n",
    "The data must adhere to the randomization rule. It needs to be sampled at random.\n",
    "\n",
    "The samples should be unrelated to one another. One sample should not impact the others.\n",
    "\n",
    "When taking samples without replacement, the sample size should not exceed 10% of the population.\n",
    "\n",
    "When the population is symmetric, a sample size of 30 is generally considered reasonable. \n",
    "\"\"\""
   ]
  }
 ],
 "metadata": {
  "kernelspec": {
   "display_name": "base",
   "language": "python",
   "name": "python3"
  },
  "language_info": {
   "codemirror_mode": {
    "name": "ipython",
    "version": 3
   },
   "file_extension": ".py",
   "mimetype": "text/x-python",
   "name": "python",
   "nbconvert_exporter": "python",
   "pygments_lexer": "ipython3",
   "version": "3.9.13"
  },
  "orig_nbformat": 4
 },
 "nbformat": 4,
 "nbformat_minor": 2
}
