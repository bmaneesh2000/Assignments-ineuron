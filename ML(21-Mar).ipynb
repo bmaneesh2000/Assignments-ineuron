{
 "cells": [
  {
   "cell_type": "code",
   "execution_count": null,
   "metadata": {},
   "outputs": [],
   "source": [
    "#1\n",
    "\n",
    "\"\"\" \n",
    "Q1. What is the difference between Ordinal Encoding and Label Encoding? Provide an example of when you\n",
    "might choose one over the other.\n",
    "\"\"\"\n",
    "\n",
    "#Answer\n",
    "\n",
    "\"\"\" \n",
    "You use ordinal encoding to preserve order of categorical data i.e. cold, warm, hot; low, medium, high. \n",
    "You use label encoding or one hot for categorical data, where there's no order in data i.e. dog, cat, whale.\n",
    "\n",
    "They basically do the same thing but the difference is that OrdinalEncoder is used to convert the features, while LabelEncoder for the target variable.\n",
    "OrdinalEncoder in fact can fit multiple columns at the same time while LabelEncoder can only fit a vector of samples, \n",
    "but no one prevents you from preprocessing the columns one at a time with the second one.\n",
    "\n",
    "We choose Ordinal when categoris have an inherent order while label is used when there is no order\n",
    "\"\"\""
   ]
  },
  {
   "cell_type": "code",
   "execution_count": null,
   "metadata": {},
   "outputs": [],
   "source": [
    "#2\n",
    "\n",
    "\"\"\" \n",
    "Q2. Explain how Target Guided Ordinal Encoding works and provide an example of when you might use it in\n",
    "a machine learning project.\n",
    "\"\"\"\n",
    "\n",
    "#Answer\n",
    "\n",
    "\"\"\" \n",
    "Group the categois and replace them with the mean or media of the corresponding target/result features.\n",
    "\"\"\"\n",
    "\n",
    "\"\"\"\n",
    "Example:- Highest Qualification Dataset\n",
    "step 1: For each highest qualification we will find the mean of all the corresponding salary.\n",
    "step 2 : Instead of ranking them based upon the mean value , we will encode this mean value corresponding to the respective highest qualification\n",
    "step 3 : We will use this to encode the Highest Qualification column\n",
    "\"\"\""
   ]
  },
  {
   "cell_type": "code",
   "execution_count": null,
   "metadata": {},
   "outputs": [],
   "source": [
    "#3\n",
    "\n",
    "\"\"\" \n",
    "Q3. Define covariance and explain why it is important in statistical analysis. How is covariance calculated?\n",
    "\"\"\"\n",
    "\n",
    "#Answer\n",
    "\n",
    "\"\"\" \n",
    "Covariance is a measure of the relationship between two random variables and to what extent, they change together. \n",
    "Or we can say, in other words, it defines the changes between the two variables, such that change in one variable is equal to change in another variable. \n",
    "This is the property of a function of maintaining its form when the variables are linearly transformed. \n",
    "Covariance is measured in units, which are calculated by multiplying the units of the two variables.\n",
    "\n",
    "Cov(X, Y) = Σ(Xi-µ)(Yj-v) / n.\n",
    "\"\"\""
   ]
  },
  {
   "cell_type": "code",
   "execution_count": 6,
   "metadata": {},
   "outputs": [
    {
     "name": "stdout",
     "output_type": "stream",
     "text": [
      "[2 1 0]\n",
      "[2 1 0]\n",
      "[2 0 1]\n"
     ]
    }
   ],
   "source": [
    "#4\n",
    "\n",
    "\"\"\"  \n",
    "Q4. For a dataset with the following categorical variables: Color (red, green, blue), Size (small, medium,\n",
    "large), and Material (wood, metal, plastic), perform label encoding using Python's scikit-learn library.\n",
    "Show your code and explain the output.\n",
    "\"\"\"\n",
    "\n",
    "#Answer\n",
    "\n",
    "Color=[\"red\",\"Green\",\"Blue\"]\n",
    "Size=[\"Small\",\"Medium\",\"Large\"]\n",
    "Material=[\"Wood\",\"Metal\",\"Plastic\"]\n",
    "\n",
    "from sklearn import preprocessing\n",
    "l1 = preprocessing.LabelEncoder()\n",
    "l2 = preprocessing.LabelEncoder()\n",
    "l3 = preprocessing.LabelEncoder()\n",
    "\n",
    "l1.fit(Color)\n",
    "l2.fit(Size)\n",
    "l3.fit(Material)\n",
    "\n",
    "print(l1.transform(Color))\n",
    "print(l2.transform(Size))\n",
    "print(l3.transform(Material))\n"
   ]
  },
  {
   "cell_type": "code",
   "execution_count": null,
   "metadata": {},
   "outputs": [],
   "source": [
    "#5\n",
    "\n",
    "\"\"\"\n",
    "Q5. Calculate the covariance matrix for the following variables in a dataset: Age, Income, and Education\n",
    "level. Interpret the results.\n",
    "\"\"\"\n",
    "\n",
    "#Answer\n",
    "\n",
    "\"\"\"\n",
    "Covariance Matrix is a measure of how much two random variables gets change together. \n",
    "It is actually used for computing the covariance in between every column of data matrix. \n",
    "The Covariance Matrix is also known as dispersion matrix and variance-covariance matrix.\n",
    "\"\"\""
   ]
  },
  {
   "cell_type": "code",
   "execution_count": null,
   "metadata": {},
   "outputs": [],
   "source": [
    "#6\n",
    "\n",
    "\"\"\" \n",
    "Q6. You are working on a machine learning project with a dataset containing several categorical\n",
    "variables, including \"Gender\" (Male/Female), \"Education Level\" (High School/Bachelor's/Master's/PhD),\n",
    "and \"Employment Status\" (Unemployed/Part-Time/Full-Time). Which encoding method would you use for\n",
    "each variable, and why?\n",
    "\"\"\"\n",
    "\n",
    "#Answers\n",
    "\n",
    "\"\"\" Educational Level and Employemnt status have an inherent order, hence use Ordinal encoding\n",
    "Gender we can use One hot or label encoding \"\"\""
   ]
  },
  {
   "cell_type": "code",
   "execution_count": null,
   "metadata": {},
   "outputs": [],
   "source": [
    "#7\n",
    "\n",
    "\"\"\" \n",
    "Q7. You are analyzing a dataset with two continuous variables, \"Temperature\" and \"Humidity\", and two\n",
    "categorical variables, \"Weather Condition\" (Sunny/Cloudy/Rainy) and \"Wind Direction\" (North/South/\n",
    "East/West). Calculate the covariance between each pair of variables and interpret the results.\n",
    "\"\"\"\n",
    "\n",
    "#Answers\n",
    "\n",
    "#Steps\n",
    "\n",
    "\"\"\" \n",
    "Apply Normalization to reduce the range of the continuous variables\n",
    "Encode the categorical variables.\n",
    "Fnd covariance using the formula Cov(X, Y) = Σ(Xi-µ)(Yj-v) / n.\n",
    "and plot them out for analysis\n",
    "\"\"\""
   ]
  }
 ],
 "metadata": {
  "kernelspec": {
   "display_name": "base",
   "language": "python",
   "name": "python3"
  },
  "language_info": {
   "codemirror_mode": {
    "name": "ipython",
    "version": 3
   },
   "file_extension": ".py",
   "mimetype": "text/x-python",
   "name": "python",
   "nbconvert_exporter": "python",
   "pygments_lexer": "ipython3",
   "version": "3.9.13"
  },
  "orig_nbformat": 4
 },
 "nbformat": 4,
 "nbformat_minor": 2
}
