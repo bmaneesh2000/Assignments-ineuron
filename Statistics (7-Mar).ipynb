{
 "cells": [
  {
   "cell_type": "code",
   "execution_count": null,
   "metadata": {},
   "outputs": [],
   "source": [
    "#1\n",
    "\n",
    "\"\"\" Q1. What are the three measures of central tendency? \"\"\"\n",
    "\n",
    "#Answer\n",
    "\n",
    "\"\"\" \n",
    "Mean\n",
    "Median\n",
    "Mode\n",
    "\"\"\""
   ]
  },
  {
   "cell_type": "code",
   "execution_count": null,
   "metadata": {},
   "outputs": [],
   "source": [
    "#2\n",
    "\n",
    "\"\"\" Q2. What is the difference between the mean, median, and mode? How are they used to measure the\n",
    "central tendency of a dataset? \"\"\"\n",
    "\n",
    "#Answer\n",
    "\n",
    "#Mean\n",
    "\n",
    "\"\"\"\n",
    "The average taken for a set of numbers is called a mean.\n",
    "Add all of the numbers together and divide the sum by the total number of values.\n",
    "The result is the mean or average score.\n",
    "\n",
    "Example: To find the average of the four numbers 2, 4, 6, and 8, we need to add the number first.\n",
    "2 + 4 + 6+ 8 = 20\n",
    "Divide the sum by the total number of numbers, i. e 4.\n",
    "20/4 = 5 is the average or mean\n",
    "\"\"\"\n",
    "\n",
    "#Median\n",
    "\n",
    "\"\"\"\n",
    "The middle value in the data set is called the Median.\n",
    "Place all the given numbers in an ascending order\n",
    "The next step is to find the middle number on the list. It is called the median.\n",
    "\n",
    "Example: 4, 2, 8, 10, 19.\n",
    "Arrange the numbers in ascending order. i .e., 2, 4, 8, 10, 19.\n",
    "As the total numbers are 5, so the middle number 8 is the median here.\n",
    "\"\"\"\n",
    "\n",
    "#Mode\n",
    "\n",
    "\"\"\" \n",
    "The number that occurs the most in a given list of numbers is called a mode.\n",
    "It shows the frequency of occurrence.\n",
    "\n",
    "Example: 3, 3, 5, 6, 7, 7, 8, 1, 1, 1, 4, 5, 6.\n",
    "Find the frequency of each number.\n",
    "For number 3, it’s 2. For 5, it’s 2. For 6, it’s 2. For 7, it’s 2. For 8, it’s one. For 1, it’s 3. For 4, it’s 1.\n",
    "The number with the highest frequency is the mode. Hence, the mode of the given sequence of numbers is 1.\n",
    "\"\"\""
   ]
  },
  {
   "cell_type": "code",
   "execution_count": 12,
   "metadata": {},
   "outputs": [
    {
     "name": "stdout",
     "output_type": "stream",
     "text": [
      "Mean 177.01875\n",
      "Median 177.0\n",
      "Mode [177.]\n"
     ]
    },
    {
     "name": "stderr",
     "output_type": "stream",
     "text": [
      "/tmp/ipykernel_6804/1107431398.py:14: FutureWarning: Unlike other reduction functions (e.g. `skew`, `kurtosis`), the default behavior of `mode` typically preserves the axis it acts along. In SciPy 1.11.0, this behavior will change: the default value of `keepdims` will become False, the `axis` over which the statistic is taken will be eliminated, and the value None will no longer be accepted. Set `keepdims` to True or False to avoid this warning.\n",
      "  print(\"Mode\",stats.mode(l)[0])\n"
     ]
    }
   ],
   "source": [
    "#3\n",
    "\n",
    "\"\"\" Q3. Measure the three measures of central tendency for the given height data:\n",
    "[178,177,176,177,178.2,178,175,179,180,175,178.9,176.2,177,172.5,178,176.5] \"\"\"\n",
    "\n",
    "#Answer\n",
    "\n",
    "import numpy as np\n",
    "from scipy import stats\n",
    "\n",
    "l=[178,177,176,177,178.2,178,175,179,180,175,178.9,176.2,177,172.5,178 ,176.5]\n",
    "print(\"Mean\",np.mean(l))\n",
    "print(\"Median\",np.median(l))\n",
    "print(\"Mode\",stats.mode(l)[0])"
   ]
  },
  {
   "cell_type": "code",
   "execution_count": 5,
   "metadata": {},
   "outputs": [
    {
     "name": "stdout",
     "output_type": "stream",
     "text": [
      "Standard Deviation 1.7885814036548633\n"
     ]
    }
   ],
   "source": [
    "#4\n",
    "\n",
    "\"\"\" Q4. Find the standard deviation for the given data:\n",
    "[178,177,176,177,178.2,178,175,179,180,175,178.9,176.2,177,172.5,178,176.5] \"\"\"\n",
    "\n",
    "#Answer\n",
    "\n",
    "l=[178,177,176,177,178.2,178,175,179,180,175,178.9,176.2,177,172.5,178,176.5]\n",
    "print(\"Standard Deviation\", np.std(l))"
   ]
  },
  {
   "cell_type": "code",
   "execution_count": 6,
   "metadata": {},
   "outputs": [
    {
     "data": {
      "text/plain": [
       "' Dispersion is the state of getting dispersed or spread. \\nStatistical dispersion means the extent to which numerical data is likely to vary about an average value. \\nIn other words, dispersion helps to understand the distribution of the data.\\n\\nThe types of absolute measures of dispersion are:\\n\\nRange: It is simply the difference between the maximum value and the minimum value given in a data set. Example: 1, 3,5, 6, 7 => Range = 7 -1= 6\\n\\nVariance: Deduct the mean from each data in the set, square each of them and add each square and finally divide them by the total no of values in the data set to get the variance. \\n\\nVariance (σ2) = ∑(X−μ)2/N\\n\\nStandard Deviation: The square root of the variance is known as the standard deviation i.e. S.D. = √σ.\\n\\n'"
      ]
     },
     "execution_count": 6,
     "metadata": {},
     "output_type": "execute_result"
    }
   ],
   "source": [
    "#5\n",
    "\n",
    "\"\"\" Q5. How are measures of dispersion such as range, variance, and standard deviation used to describe\n",
    "the spread of a dataset? Provide an example. \"\"\"\n",
    "\n",
    "#Answer\n",
    "\n",
    "\"\"\" Dispersion is the state of getting dispersed or spread. \n",
    "Statistical dispersion means the extent to which numerical data is likely to vary about an average value. \n",
    "In other words, dispersion helps to understand the distribution of the data.\n",
    "\n",
    "The types of absolute measures of dispersion are:\n",
    "\n",
    "#Range: It is simply the difference between the maximum value and the minimum value given in a data set. Example: 1, 3,5, 6, 7 => Range = 7 -1= 6\n",
    "\n",
    "#Variance: Deduct the mean from each data in the set, square each of them and add each square and finally divide them by the total no of values in the data set to get the variance. \n",
    "\n",
    "Variance (σ2) = ∑(X−μ)2/N\n",
    "\n",
    "#Standard Deviation: The square root of the variance is known as the standard deviation \n",
    "\n",
    "i.e. S.D. = √σ.\n",
    "\n",
    "\"\"\""
   ]
  },
  {
   "cell_type": "code",
   "execution_count": null,
   "metadata": {},
   "outputs": [],
   "source": [
    "#6\n",
    "\n",
    "\"\"\" Q6. What is a Venn diagram? \"\"\"\n",
    "\n",
    "#Answers\n",
    "\n",
    "\"\"\"\n",
    "A Venn diagram is an illustration that uses circles to show the relationships among things or finite groups of things. \n",
    "Circles that overlap have a commonality while circles that do not overlap do not share those traits.\n",
    "Venn diagrams help to visually represent the similarities and differences between two concepts. \n",
    "\"\"\""
   ]
  },
  {
   "cell_type": "code",
   "execution_count": 11,
   "metadata": {},
   "outputs": [
    {
     "name": "stdout",
     "output_type": "stream",
     "text": [
      "{2, 6}\n",
      "{0, 2, 3, 4, 5, 6, 7, 8, 10}\n"
     ]
    }
   ],
   "source": [
    "#7\n",
    "\n",
    "\"\"\" Q7. For the two given sets A = (2,3,4,5,6,7) & B = (0,2,6,8,10). Find:\n",
    "(i) A intersection B\n",
    "(ii) A union B \"\"\"\n",
    "\n",
    "#Answers\n",
    "\n",
    "A=set((2,3,4,5,6,7))\n",
    "B=set((0,2,6,8,10))\n",
    "\n",
    "i= A.intersection(B)\n",
    "u= A.union(B)\n",
    "\n",
    "print(i)\n",
    "print(u)"
   ]
  },
  {
   "cell_type": "code",
   "execution_count": null,
   "metadata": {},
   "outputs": [],
   "source": [
    "#8\n",
    "\n",
    "\"\"\" Q8. What do you understand about skewness in data? \"\"\"\n",
    "\n",
    "#Answer\n",
    "\n",
    "\"\"\" \n",
    "Skewness is a measurement of the distortion of symmetrical distribution or asymmetry in a data set. \n",
    "Skewness is demonstrated on a bell curve when data points are not distributed symmetrically to the left and right sides of the median on a bell curve. \n",
    "If the bell curve is shifted to the left or the right, it is said to be skewed.\n",
    "\"\"\"\n",
    "\n"
   ]
  },
  {
   "cell_type": "code",
   "execution_count": null,
   "metadata": {},
   "outputs": [],
   "source": [
    "#9\n",
    "\n",
    "\"\"\" Q9. If a data is right skewed then what will be the position of median with respect to mean?  \"\"\"\n",
    "\n",
    "#Answers\n",
    "\n",
    "\"\"\" \n",
    "For right skewed data\n",
    "\n",
    "Mean > median > mode\n",
    "\n",
    "\"\"\""
   ]
  },
  {
   "cell_type": "code",
   "execution_count": null,
   "metadata": {},
   "outputs": [],
   "source": [
    "#10\n",
    "\n",
    "\"\"\"Q10. Explain the difference between covariance and correlation. How are these measures used in\n",
    "statistical analysis?  \"\"\"\n",
    "\n",
    "#Answers\n",
    "\n",
    "\"\"\" \n",
    "Covariance is a statistical term that refers to a systematic relationship between two random variables in which a change in the other reflects a change in one variable.\n",
    "The covariance value can range from -∞ to +∞, with a negative value indicating a negative relationship and a positive value indicating a positive relationship.\n",
    "The greater this number, the more reliant the relationship. Positive covariance denotes a direct relationship and is represented by a positive number.\n",
    "\n",
    "\n",
    "Correlation is a measure that determines the degree to which two or more random variables move in sequence. \n",
    "When an equivalent movement of another variable reciprocates the movement of one variable in some way or another during the study of two variables, \n",
    "the variables are said to be correlated. \n",
    "\n",
    "Used to find the relationship between multiple features\n",
    "\n",
    "\"\"\""
   ]
  },
  {
   "cell_type": "code",
   "execution_count": 14,
   "metadata": {},
   "outputs": [
    {
     "data": {
      "text/plain": [
       "177.20000000000002"
      ]
     },
     "execution_count": 14,
     "metadata": {},
     "output_type": "execute_result"
    }
   ],
   "source": [
    "#11\n",
    "\n",
    "\"\"\"Q11. What is the formula for calculating the sample mean? Provide an example calculation for a\n",
    "dataset. \"\"\"\n",
    "\n",
    "#Answers\n",
    "\n",
    "\"\"\" The general formula for calculating the sample mean is given by x̄ = ( Σ xi ) / n. \n",
    "Here, x̄ represents the sample mean, xi refers all X sample values and n stands for the number of sample terms in the data set.\n",
    " \"\"\"\n",
    "\n",
    "l=[178,177,176,177,178.2,178,175,179,180,175,178.9,176.2,177,172.5,178 ,176.5]\n",
    "\n",
    "ll=l[2:8]\n",
    "\n",
    "np.mean(ll)"
   ]
  },
  {
   "cell_type": "code",
   "execution_count": null,
   "metadata": {},
   "outputs": [],
   "source": [
    "#12\n",
    "\n",
    "\"\"\" Q12. For a normal distribution data what is the relationship between its measure of central tendency? \"\"\"\n",
    "\n",
    "#Answers\n",
    "\n",
    "\n",
    "\"\"\" The mean, median, mode are perfectly equal and are centerd\"\"\""
   ]
  },
  {
   "cell_type": "code",
   "execution_count": null,
   "metadata": {},
   "outputs": [],
   "source": [
    "#13\n",
    "\n",
    "\"\"\"Q13. How is covariance different from correlation? \"\"\"\n",
    "\n",
    "#Answers\n",
    "\n",
    "\"\"\" Covariance is a statistical term that refers to a systematic relationship between two random variables in which a change in the other reflects a change in one variable.\n",
    "The covariance value can range from -∞ to +∞, with a negative value indicating a negative relationship and a positive value indicating a positive relationship.\n",
    "The greater this number, the more reliant the relationship. Positive covariance denotes a direct relationship and is represented by a positive number.\n",
    "\n",
    "\n",
    "Correlation is a measure that determines the degree to which two or more random variables move in sequence. \n",
    "When an equivalent movement of another variable reciprocates the movement of one variable in some way or another during the study of two variables, \n",
    "the variables are said to be correlated. \n",
    "\n",
    "Used to find the relationship between multiple features\"\"\"\n",
    "\n",
    "\"\"\" covariance is used to find the relationship between two datasets but the range can be anything between -infinity, infinity, so we use correlation that soles this issue\"\"\""
   ]
  },
  {
   "cell_type": "code",
   "execution_count": 15,
   "metadata": {},
   "outputs": [
    {
     "name": "stdout",
     "output_type": "stream",
     "text": [
      "17.285714285714285\n",
      "4.0\n"
     ]
    }
   ],
   "source": [
    "#14\n",
    "\n",
    "\"\"\" Q14. How do outliers affect measures of central tendency and dispersion? Provide an example.  \"\"\"\n",
    "\n",
    "#Answer\n",
    "\n",
    "\"\"\" If we have an outlier it can distort the value of the mean giving us an inaccurate result, hence to overcome such issues we use median\"\"\"\n",
    "\n",
    "l=[1,2,3,4,5,6,100]\n",
    "\n",
    "m1=np.mean(l)\n",
    "m2=np.median(l)\n",
    "\n",
    "print(m1)\n",
    "print(m2)"
   ]
  }
 ],
 "metadata": {
  "kernelspec": {
   "display_name": "base",
   "language": "python",
   "name": "python3"
  },
  "language_info": {
   "codemirror_mode": {
    "name": "ipython",
    "version": 3
   },
   "file_extension": ".py",
   "mimetype": "text/x-python",
   "name": "python",
   "nbconvert_exporter": "python",
   "pygments_lexer": "ipython3",
   "version": "3.9.13"
  },
  "orig_nbformat": 4
 },
 "nbformat": 4,
 "nbformat_minor": 2
}
