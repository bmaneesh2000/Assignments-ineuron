{
 "cells": [
  {
   "cell_type": "code",
   "execution_count": null,
   "metadata": {},
   "outputs": [],
   "source": [
    "#1 \n",
    "\n",
    "\"\"\"\n",
    "Q1. In order to predict house price based on several characteristics, such as location, square footage,\n",
    "number of bedrooms, etc., you are developing an SVM regression model. Which regression metric in this\n",
    "situation would be the best to employ?\n",
    "\"\"\"\n",
    "\n",
    "#Ans\n",
    "\n",
    "\"\"\"\n",
    "\n",
    "RMSE is a popular evaluation metric for regression problems because it not only calculates \n",
    "how close the prediction is to the actual value on average, but it also indicates the effect of large errors\n",
    "\n",
    "\"\"\""
   ]
  },
  {
   "cell_type": "code",
   "execution_count": null,
   "metadata": {},
   "outputs": [],
   "source": [
    "#2\n",
    "\n",
    "\"\"\"\n",
    "Q2. You have built an SVM regression model and are trying to decide between using MSE or R-squared as\n",
    "your evaluation metric. Which metric would be more appropriate if your goal is to predict the actual price\n",
    "of a house as accurately as possible?\n",
    "\"\"\"\n",
    "\n",
    "#Ans\n",
    "\n",
    "\"\"\"\n",
    "A. RMSE (Root Mean Squared Error) is a popular metric for regression because it combines the advantages of MSE (Mean Squared Error) while having the same scale as the target variable. It penalizes large errors more severely, making it sensitive to outliers. Additionally, RMSE is easily interpretable,\n",
    "\"\"\""
   ]
  },
  {
   "cell_type": "code",
   "execution_count": null,
   "metadata": {},
   "outputs": [],
   "source": [
    "#3\n",
    "\n",
    "\"\"\"\n",
    "Q3. You have a dataset with a significant number of outliers and are trying to select an appropriate\n",
    "regression metric to use with your SVM model. Which metric would be the most appropriate in this\n",
    "scenario?\n",
    "\"\"\"\n",
    "\n",
    "#Answers\n",
    "\n",
    "\"\"\"\n",
    "MSE\n",
    "\"\"\""
   ]
  },
  {
   "cell_type": "code",
   "execution_count": null,
   "metadata": {},
   "outputs": [],
   "source": [
    "#4\n",
    "\n",
    "\"\"\"\n",
    "Q4. You have built an SVM regression model using a polynomial kernel and are trying to select the best\n",
    "metric to evaluate its performance. You have calculated both MSE and RMSE and found that both values\n",
    "are very close. Which metric should you choose to use in this case?\n",
    "\"\"\"\n",
    "\n",
    "#Answers\n",
    "\n",
    "\"\"\" \n",
    "Both metrics have comparable behaviour in response to model bias and asymptote to the model bias as the bias increases. MAE is shown to be an unbiased estimator while RMSE is a biased estimator. MAE also has a lower sample variance compared with RMSE indicating MAE is the most robust choice.\n",
    "\"\"\""
   ]
  },
  {
   "cell_type": "code",
   "execution_count": null,
   "metadata": {},
   "outputs": [],
   "source": [
    "#5\n",
    "\n",
    "\"\"\" \n",
    "Q5. You are comparing the performance of different SVM regression models using different kernels (linear,\n",
    "polynomial, and RBF) and are trying to select the best evaluation metric. Which metric would be most\n",
    "appropriate if your goal is to measure how well the model explains the variance in the target variable?\n",
    "\"\"\"\n",
    "\n",
    "#Ans\n",
    "\n",
    "\"\"\" \n",
    "There isn’t a single “best” metric for regression, as it depends on the specific problem and the desired outcome. Commonly used metrics include mean squared error (MSE), mean absolute error (MAE), and R-squared. MSE is sensitive to outliers, while MAE is more robust. R-squared measures the proportion of variance explained by the model. The choice of metric should align with the goals and characteristics of the regression problem.\n",
    "\"\"\""
   ]
  }
 ],
 "metadata": {
  "language_info": {
   "name": "python"
  },
  "orig_nbformat": 4
 },
 "nbformat": 4,
 "nbformat_minor": 2
}
