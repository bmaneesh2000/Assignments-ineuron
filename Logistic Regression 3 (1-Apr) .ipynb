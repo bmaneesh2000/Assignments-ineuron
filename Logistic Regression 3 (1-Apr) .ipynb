{
 "cells": [
  {
   "cell_type": "code",
   "execution_count": null,
   "metadata": {},
   "outputs": [],
   "source": [
    "#1\n",
    "\n",
    "\"\"\" Q1. Explain the difference between linear regression and logistic regression models. Provide an example of\n",
    "a scenario where logistic regression would be more appropriate. \"\"\"\n",
    "\n",
    "#Answer\n",
    "\n",
    "\"\"\" \n",
    "Linear Regression:\n",
    "Linear Regression is one of the most simple Machine learning algorithm that comes under Supervised Learning technique and used for solving regression problems.\n",
    "It is used for predicting the continuous dependent variable with the help of independent variables.\n",
    "The goal of the Linear regression is to find the best fit line that can accurately predict the output for the continuous dependent variable.\n",
    "If single independent variable is used for prediction then it is called Simple Linear Regression and if there are more than two independent variables then such regression is called as Multiple Linear Regression.\n",
    "By finding the best fit line, algorithm establish the relationship between dependent variable and independent variable. And the relationship should be of linear nature.\n",
    "The output for Linear regression should only be the continuous values such as price, age, salary, etc. \n",
    "\n",
    "\n",
    "Logistic Regression:\n",
    "Logistic regression is one of the most popular Machine learning algorithm that comes under Supervised Learning techniques.\n",
    "It can be used for Classification as well as for Regression problems, but mainly used for Classification problems.\n",
    "Logistic regression is used to predict the categorical dependent variable with the help of independent variables.\n",
    "The output of Logistic Regression problem can be only between the 0 and 1.\n",
    "Logistic regression can be used where the probabilities between two classes is required. Such as whether it will rain today or not, either 0 or 1, true or false etc.\n",
    "Logistic regression is based on the concept of Maximum Likelihood estimation. According to this estimation, the observed data should be most probable.\n",
    "In logistic regression, we pass the weighted sum of inputs through an activation function that can map values in between 0 and 1. Such activation function is known as sigmoid function and the curve obtained is called as sigmoid curve or S-curve.\n",
    "\"\"\""
   ]
  },
  {
   "cell_type": "code",
   "execution_count": null,
   "metadata": {},
   "outputs": [],
   "source": [
    "#2\n",
    "\n",
    "\"\"\" \n",
    "Q2. What is the cost function used in logistic regression, and how is it optimized?\n",
    "\"\"\"\n",
    "\n",
    "#Ans\n",
    "\n",
    "\"\"\" \n",
    "In Logistic Regression Ŷi is a nonlinear function(Ŷ=1​/1+ e-z), if we put this in the above MSE equation it will give a non-convex function as shown: When we try to optimize values using gradient descent it will create complications to find global minima.\n",
    "\"\"\""
   ]
  },
  {
   "cell_type": "code",
   "execution_count": null,
   "metadata": {},
   "outputs": [],
   "source": [
    "#3\n",
    "\n",
    "\"\"\" \n",
    "Q3. Explain the concept of regularization in logistic regression and how it helps prevent overfitting.\n",
    "\"\"\"\n",
    "\n",
    "#Ans\n",
    "\n",
    "\"\"\" \n",
    "\n",
    "In order to avoid overfitting, it is necessary to use additional techniques (e.g. cross-validation, regularization, early stopping, pruning, or Bayesian priors). Regularization is a way of finding a good bias-variance tradeoff by tuning the complexity of the model.\n",
    "\"\"\""
   ]
  },
  {
   "cell_type": "code",
   "execution_count": null,
   "metadata": {},
   "outputs": [],
   "source": [
    "#4\n",
    "\n",
    "\"\"\" Q4. What is the ROC curve, and how is it used to evaluate the performance of the logistic regression\n",
    "model? \"\"\"\n",
    "\n",
    "#Ans\n",
    "\n",
    "\"\"\"\n",
    "An ROC curve (receiver operating characteristic curve) is a graph showing the performance of a classification model at all classification thresholds. This curve plots two parameters: True Positive Rate. False Positive Rate.\n",
    "\n",
    "\"\"\""
   ]
  },
  {
   "cell_type": "code",
   "execution_count": null,
   "metadata": {},
   "outputs": [],
   "source": [
    "#5\n",
    "\n",
    "\"\"\" \n",
    "Q5. What are some common techniques for feature selection in logistic regression? How do these\n",
    "techniques help improve the model's performance?\n",
    "\"\"\"\n",
    "\n",
    "#Answers\n",
    "\n",
    "\"\"\" \n",
    "There are several types of statistical tests that can be used for filter feature selection, including chi-square, ANOVA, and mutual information. These tests measure the degree of association between the features and the target variable, and can help identify the most relevant features for the model.\n",
    "\"\"\""
   ]
  },
  {
   "cell_type": "code",
   "execution_count": null,
   "metadata": {},
   "outputs": [],
   "source": [
    "#6\n",
    "\n",
    "\"\"\" \n",
    "Q6. How can you handle imbalanced datasets in logistic regression? What are some strategies for dealing\n",
    "with class imbalance?\n",
    "\"\"\"\n",
    "\n",
    "#Answers\n",
    "\n",
    "\"\"\" \n",
    "Sample Dataset.\n",
    "Random Under-Sampling.\n",
    "Random Over-Sampling.\n",
    "Random Under-Sampling With Imblearn.\n",
    "Random Over-Sampling With imblearn.\n",
    "Under-Sampling: Tomek Links. \n",
    "Synthetic Minority Oversampling Technique (SMOTE) \n",
    "NearMiss.\n",
    "\"\"\""
   ]
  },
  {
   "cell_type": "code",
   "execution_count": null,
   "metadata": {},
   "outputs": [],
   "source": [
    "#7\n",
    "\n",
    "\"\"\"\n",
    "Q7. Can you discuss some common issues and challenges that may arise when implementing logistic\n",
    "regression, and how they can be addressed? For example, what can be done if there is multicollinearity\n",
    "among the independent variables?\n",
    "\"\"\"\n",
    "\n",
    "#Answers\n",
    "\n",
    "\"\"\"\n",
    "Logistic Regression is a statistical analysis model that attempts to predict precise probabilistic outcomes based on independent features. On high dimensional datasets, this may lead to the model being over-fit on the training set, which means overstating the accuracy of predictions on the training set and thus the model may not be able to predict accurate results on the test set. This usually happens in the case when the model is trained on little training data with lots of features. So on high dimensional datasets, Regularization techniques should be considered to avoid over-fitting (but this makes the model complex). Very high regularization factors may even lead to the model being under-fit on the training data.\n",
    "\n",
    "Non linear problems can't be solved with logistic regression since it has a linear decision surface. Linearly separable data is rarely found in real world scenarios. So the transformation of non linear features is required which can be done by increasing the number of features such that the data becomes linearly separable in higher dimensions.\n",
    "\n",
    "\"\"\""
   ]
  }
 ],
 "metadata": {
  "language_info": {
   "name": "python"
  },
  "orig_nbformat": 4
 },
 "nbformat": 4,
 "nbformat_minor": 2
}
